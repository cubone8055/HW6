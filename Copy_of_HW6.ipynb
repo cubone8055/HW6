{
  "nbformat": 4,
  "nbformat_minor": 0,
  "metadata": {
    "colab": {
      "name": "Copy of HW6.ipynb",
      "provenance": [],
      "collapsed_sections": []
    },
    "kernelspec": {
      "name": "python3",
      "display_name": "Python 3"
    },
    "language_info": {
      "name": "python"
    }
  },
  "cells": [
    {
      "cell_type": "code",
      "execution_count": 2,
      "metadata": {
        "id": "ZxBG5Vbt2XrN"
      },
      "outputs": [],
      "source": [
        "import pandas as pd\n",
        "import seaborn as sns"
      ]
    },
    {
      "cell_type": "code",
      "source": [
        "from google.colab import drive\n",
        "drive.mount('/content/drive')"
      ],
      "metadata": {
        "colab": {
          "base_uri": "https://localhost:8080/"
        },
        "id": "9chfEK94PObW",
        "outputId": "9907d00d-7494-45c8-afb1-229652c093f6"
      },
      "execution_count": 3,
      "outputs": [
        {
          "output_type": "stream",
          "name": "stdout",
          "text": [
            "Mounted at /content/drive\n"
          ]
        }
      ]
    },
    {
      "cell_type": "markdown",
      "source": [
        "##Q2\n",
        "Please follow the instructions below and inspect the outputs before you proceed. You can always check this original final to compare your results in your own copy."
      ],
      "metadata": {
        "id": "EUzaHDZv7hlJ"
      }
    },
    {
      "cell_type": "code",
      "source": [
        "#You have to make sure that you were able to write the file to a csv while your were working in R\n",
        "house=pd.read_csv('/content/drive/MyDrive/DATA/house_prices.csv')\n",
        "house.head()"
      ],
      "metadata": {
        "colab": {
          "base_uri": "https://localhost:8080/",
          "height": 206
        },
        "id": "MiQNLL6v2c1W",
        "outputId": "95011fda-ba8d-461b-da6a-98e6ac217a2a"
      },
      "execution_count": 4,
      "outputs": [
        {
          "output_type": "execute_result",
          "data": {
            "text/plain": [
              "   Unnamed: 0        date    state  unemploy_perc  house_price_index  \\\n",
              "0           1  1976-01-01  Alabama            6.7          37.138285   \n",
              "1           2  1976-02-01  Alabama            6.7          37.756437   \n",
              "2           3  1976-03-01  Alabama            6.6          38.276319   \n",
              "3           4  1976-04-01  Alabama            6.5          38.596135   \n",
              "4           5  1976-05-01  Alabama            6.4          38.740517   \n",
              "\n",
              "   house_price_perc  \n",
              "0          0.040405  \n",
              "1          0.051806  \n",
              "2          0.059302  \n",
              "3          0.059585  \n",
              "4          0.055723  "
            ],
            "text/html": [
              "\n",
              "  <div id=\"df-95802026-1f8d-4ddd-bdae-aad2ab81b988\">\n",
              "    <div class=\"colab-df-container\">\n",
              "      <div>\n",
              "<style scoped>\n",
              "    .dataframe tbody tr th:only-of-type {\n",
              "        vertical-align: middle;\n",
              "    }\n",
              "\n",
              "    .dataframe tbody tr th {\n",
              "        vertical-align: top;\n",
              "    }\n",
              "\n",
              "    .dataframe thead th {\n",
              "        text-align: right;\n",
              "    }\n",
              "</style>\n",
              "<table border=\"1\" class=\"dataframe\">\n",
              "  <thead>\n",
              "    <tr style=\"text-align: right;\">\n",
              "      <th></th>\n",
              "      <th>Unnamed: 0</th>\n",
              "      <th>date</th>\n",
              "      <th>state</th>\n",
              "      <th>unemploy_perc</th>\n",
              "      <th>house_price_index</th>\n",
              "      <th>house_price_perc</th>\n",
              "    </tr>\n",
              "  </thead>\n",
              "  <tbody>\n",
              "    <tr>\n",
              "      <th>0</th>\n",
              "      <td>1</td>\n",
              "      <td>1976-01-01</td>\n",
              "      <td>Alabama</td>\n",
              "      <td>6.7</td>\n",
              "      <td>37.138285</td>\n",
              "      <td>0.040405</td>\n",
              "    </tr>\n",
              "    <tr>\n",
              "      <th>1</th>\n",
              "      <td>2</td>\n",
              "      <td>1976-02-01</td>\n",
              "      <td>Alabama</td>\n",
              "      <td>6.7</td>\n",
              "      <td>37.756437</td>\n",
              "      <td>0.051806</td>\n",
              "    </tr>\n",
              "    <tr>\n",
              "      <th>2</th>\n",
              "      <td>3</td>\n",
              "      <td>1976-03-01</td>\n",
              "      <td>Alabama</td>\n",
              "      <td>6.6</td>\n",
              "      <td>38.276319</td>\n",
              "      <td>0.059302</td>\n",
              "    </tr>\n",
              "    <tr>\n",
              "      <th>3</th>\n",
              "      <td>4</td>\n",
              "      <td>1976-04-01</td>\n",
              "      <td>Alabama</td>\n",
              "      <td>6.5</td>\n",
              "      <td>38.596135</td>\n",
              "      <td>0.059585</td>\n",
              "    </tr>\n",
              "    <tr>\n",
              "      <th>4</th>\n",
              "      <td>5</td>\n",
              "      <td>1976-05-01</td>\n",
              "      <td>Alabama</td>\n",
              "      <td>6.4</td>\n",
              "      <td>38.740517</td>\n",
              "      <td>0.055723</td>\n",
              "    </tr>\n",
              "  </tbody>\n",
              "</table>\n",
              "</div>\n",
              "      <button class=\"colab-df-convert\" onclick=\"convertToInteractive('df-95802026-1f8d-4ddd-bdae-aad2ab81b988')\"\n",
              "              title=\"Convert this dataframe to an interactive table.\"\n",
              "              style=\"display:none;\">\n",
              "        \n",
              "  <svg xmlns=\"http://www.w3.org/2000/svg\" height=\"24px\"viewBox=\"0 0 24 24\"\n",
              "       width=\"24px\">\n",
              "    <path d=\"M0 0h24v24H0V0z\" fill=\"none\"/>\n",
              "    <path d=\"M18.56 5.44l.94 2.06.94-2.06 2.06-.94-2.06-.94-.94-2.06-.94 2.06-2.06.94zm-11 1L8.5 8.5l.94-2.06 2.06-.94-2.06-.94L8.5 2.5l-.94 2.06-2.06.94zm10 10l.94 2.06.94-2.06 2.06-.94-2.06-.94-.94-2.06-.94 2.06-2.06.94z\"/><path d=\"M17.41 7.96l-1.37-1.37c-.4-.4-.92-.59-1.43-.59-.52 0-1.04.2-1.43.59L10.3 9.45l-7.72 7.72c-.78.78-.78 2.05 0 2.83L4 21.41c.39.39.9.59 1.41.59.51 0 1.02-.2 1.41-.59l7.78-7.78 2.81-2.81c.8-.78.8-2.07 0-2.86zM5.41 20L4 18.59l7.72-7.72 1.47 1.35L5.41 20z\"/>\n",
              "  </svg>\n",
              "      </button>\n",
              "      \n",
              "  <style>\n",
              "    .colab-df-container {\n",
              "      display:flex;\n",
              "      flex-wrap:wrap;\n",
              "      gap: 12px;\n",
              "    }\n",
              "\n",
              "    .colab-df-convert {\n",
              "      background-color: #E8F0FE;\n",
              "      border: none;\n",
              "      border-radius: 50%;\n",
              "      cursor: pointer;\n",
              "      display: none;\n",
              "      fill: #1967D2;\n",
              "      height: 32px;\n",
              "      padding: 0 0 0 0;\n",
              "      width: 32px;\n",
              "    }\n",
              "\n",
              "    .colab-df-convert:hover {\n",
              "      background-color: #E2EBFA;\n",
              "      box-shadow: 0px 1px 2px rgba(60, 64, 67, 0.3), 0px 1px 3px 1px rgba(60, 64, 67, 0.15);\n",
              "      fill: #174EA6;\n",
              "    }\n",
              "\n",
              "    [theme=dark] .colab-df-convert {\n",
              "      background-color: #3B4455;\n",
              "      fill: #D2E3FC;\n",
              "    }\n",
              "\n",
              "    [theme=dark] .colab-df-convert:hover {\n",
              "      background-color: #434B5C;\n",
              "      box-shadow: 0px 1px 3px 1px rgba(0, 0, 0, 0.15);\n",
              "      filter: drop-shadow(0px 1px 2px rgba(0, 0, 0, 0.3));\n",
              "      fill: #FFFFFF;\n",
              "    }\n",
              "  </style>\n",
              "\n",
              "      <script>\n",
              "        const buttonEl =\n",
              "          document.querySelector('#df-95802026-1f8d-4ddd-bdae-aad2ab81b988 button.colab-df-convert');\n",
              "        buttonEl.style.display =\n",
              "          google.colab.kernel.accessAllowed ? 'block' : 'none';\n",
              "\n",
              "        async function convertToInteractive(key) {\n",
              "          const element = document.querySelector('#df-95802026-1f8d-4ddd-bdae-aad2ab81b988');\n",
              "          const dataTable =\n",
              "            await google.colab.kernel.invokeFunction('convertToInteractive',\n",
              "                                                     [key], {});\n",
              "          if (!dataTable) return;\n",
              "\n",
              "          const docLinkHtml = 'Like what you see? Visit the ' +\n",
              "            '<a target=\"_blank\" href=https://colab.research.google.com/notebooks/data_table.ipynb>data table notebook</a>'\n",
              "            + ' to learn more about interactive tables.';\n",
              "          element.innerHTML = '';\n",
              "          dataTable['output_type'] = 'display_data';\n",
              "          await google.colab.output.renderOutput(dataTable, element);\n",
              "          const docLink = document.createElement('div');\n",
              "          docLink.innerHTML = docLinkHtml;\n",
              "          element.appendChild(docLink);\n",
              "        }\n",
              "      </script>\n",
              "    </div>\n",
              "  </div>\n",
              "  "
            ]
          },
          "metadata": {},
          "execution_count": 4
        }
      ]
    },
    {
      "cell_type": "markdown",
      "source": [
        "a) For the states below, please select the rows from the house dataframe, and consider converting the date column to date data type as it may be coming in string format. Then use the head function to preview your new dataframe."
      ],
      "metadata": {
        "id": "bP_NsOm3FjVm"
      }
    },
    {
      "cell_type": "code",
      "source": [
        "states = ['Michigan', 'California', 'Texas', 'Indiana']\n",
        "houses = house[house['state'].isin(states)]\n",
        "houses['date']= pd.to_datetime(houses['date'])\n",
        "houses.head()"
      ],
      "metadata": {
        "colab": {
          "base_uri": "https://localhost:8080/",
          "height": 310
        },
        "id": "v5HfUIqk5e9k",
        "outputId": "596ecf69-f27d-4c0a-fa2a-959b95e85c87"
      },
      "execution_count": 5,
      "outputs": [
        {
          "output_type": "stream",
          "name": "stderr",
          "text": [
            "/usr/local/lib/python3.7/dist-packages/ipykernel_launcher.py:3: SettingWithCopyWarning: \n",
            "A value is trying to be set on a copy of a slice from a DataFrame.\n",
            "Try using .loc[row_indexer,col_indexer] = value instead\n",
            "\n",
            "See the caveats in the documentation: https://pandas.pydata.org/pandas-docs/stable/user_guide/indexing.html#returning-a-view-versus-a-copy\n",
            "  This is separate from the ipykernel package so we can avoid doing imports until\n"
          ]
        },
        {
          "output_type": "execute_result",
          "data": {
            "text/plain": [
              "      Unnamed: 0       date       state  unemploy_perc  house_price_index  \\\n",
              "2016        2017 1976-01-01  California            9.1          17.908764   \n",
              "2017        2018 1976-02-01  California            9.1          18.117587   \n",
              "2018        2019 1976-03-01  California            9.0          18.379530   \n",
              "2019        2020 1976-04-01  California            9.0          18.673067   \n",
              "2020        2021 1976-05-01  California            8.9          18.899995   \n",
              "\n",
              "      house_price_perc  \n",
              "2016          0.139067  \n",
              "2017          0.148485  \n",
              "2018          0.151243  \n",
              "2019          0.147308  \n",
              "2020          0.143167  "
            ],
            "text/html": [
              "\n",
              "  <div id=\"df-d5bedce2-d91d-4cb5-af5d-820748d34ecb\">\n",
              "    <div class=\"colab-df-container\">\n",
              "      <div>\n",
              "<style scoped>\n",
              "    .dataframe tbody tr th:only-of-type {\n",
              "        vertical-align: middle;\n",
              "    }\n",
              "\n",
              "    .dataframe tbody tr th {\n",
              "        vertical-align: top;\n",
              "    }\n",
              "\n",
              "    .dataframe thead th {\n",
              "        text-align: right;\n",
              "    }\n",
              "</style>\n",
              "<table border=\"1\" class=\"dataframe\">\n",
              "  <thead>\n",
              "    <tr style=\"text-align: right;\">\n",
              "      <th></th>\n",
              "      <th>Unnamed: 0</th>\n",
              "      <th>date</th>\n",
              "      <th>state</th>\n",
              "      <th>unemploy_perc</th>\n",
              "      <th>house_price_index</th>\n",
              "      <th>house_price_perc</th>\n",
              "    </tr>\n",
              "  </thead>\n",
              "  <tbody>\n",
              "    <tr>\n",
              "      <th>2016</th>\n",
              "      <td>2017</td>\n",
              "      <td>1976-01-01</td>\n",
              "      <td>California</td>\n",
              "      <td>9.1</td>\n",
              "      <td>17.908764</td>\n",
              "      <td>0.139067</td>\n",
              "    </tr>\n",
              "    <tr>\n",
              "      <th>2017</th>\n",
              "      <td>2018</td>\n",
              "      <td>1976-02-01</td>\n",
              "      <td>California</td>\n",
              "      <td>9.1</td>\n",
              "      <td>18.117587</td>\n",
              "      <td>0.148485</td>\n",
              "    </tr>\n",
              "    <tr>\n",
              "      <th>2018</th>\n",
              "      <td>2019</td>\n",
              "      <td>1976-03-01</td>\n",
              "      <td>California</td>\n",
              "      <td>9.0</td>\n",
              "      <td>18.379530</td>\n",
              "      <td>0.151243</td>\n",
              "    </tr>\n",
              "    <tr>\n",
              "      <th>2019</th>\n",
              "      <td>2020</td>\n",
              "      <td>1976-04-01</td>\n",
              "      <td>California</td>\n",
              "      <td>9.0</td>\n",
              "      <td>18.673067</td>\n",
              "      <td>0.147308</td>\n",
              "    </tr>\n",
              "    <tr>\n",
              "      <th>2020</th>\n",
              "      <td>2021</td>\n",
              "      <td>1976-05-01</td>\n",
              "      <td>California</td>\n",
              "      <td>8.9</td>\n",
              "      <td>18.899995</td>\n",
              "      <td>0.143167</td>\n",
              "    </tr>\n",
              "  </tbody>\n",
              "</table>\n",
              "</div>\n",
              "      <button class=\"colab-df-convert\" onclick=\"convertToInteractive('df-d5bedce2-d91d-4cb5-af5d-820748d34ecb')\"\n",
              "              title=\"Convert this dataframe to an interactive table.\"\n",
              "              style=\"display:none;\">\n",
              "        \n",
              "  <svg xmlns=\"http://www.w3.org/2000/svg\" height=\"24px\"viewBox=\"0 0 24 24\"\n",
              "       width=\"24px\">\n",
              "    <path d=\"M0 0h24v24H0V0z\" fill=\"none\"/>\n",
              "    <path d=\"M18.56 5.44l.94 2.06.94-2.06 2.06-.94-2.06-.94-.94-2.06-.94 2.06-2.06.94zm-11 1L8.5 8.5l.94-2.06 2.06-.94-2.06-.94L8.5 2.5l-.94 2.06-2.06.94zm10 10l.94 2.06.94-2.06 2.06-.94-2.06-.94-.94-2.06-.94 2.06-2.06.94z\"/><path d=\"M17.41 7.96l-1.37-1.37c-.4-.4-.92-.59-1.43-.59-.52 0-1.04.2-1.43.59L10.3 9.45l-7.72 7.72c-.78.78-.78 2.05 0 2.83L4 21.41c.39.39.9.59 1.41.59.51 0 1.02-.2 1.41-.59l7.78-7.78 2.81-2.81c.8-.78.8-2.07 0-2.86zM5.41 20L4 18.59l7.72-7.72 1.47 1.35L5.41 20z\"/>\n",
              "  </svg>\n",
              "      </button>\n",
              "      \n",
              "  <style>\n",
              "    .colab-df-container {\n",
              "      display:flex;\n",
              "      flex-wrap:wrap;\n",
              "      gap: 12px;\n",
              "    }\n",
              "\n",
              "    .colab-df-convert {\n",
              "      background-color: #E8F0FE;\n",
              "      border: none;\n",
              "      border-radius: 50%;\n",
              "      cursor: pointer;\n",
              "      display: none;\n",
              "      fill: #1967D2;\n",
              "      height: 32px;\n",
              "      padding: 0 0 0 0;\n",
              "      width: 32px;\n",
              "    }\n",
              "\n",
              "    .colab-df-convert:hover {\n",
              "      background-color: #E2EBFA;\n",
              "      box-shadow: 0px 1px 2px rgba(60, 64, 67, 0.3), 0px 1px 3px 1px rgba(60, 64, 67, 0.15);\n",
              "      fill: #174EA6;\n",
              "    }\n",
              "\n",
              "    [theme=dark] .colab-df-convert {\n",
              "      background-color: #3B4455;\n",
              "      fill: #D2E3FC;\n",
              "    }\n",
              "\n",
              "    [theme=dark] .colab-df-convert:hover {\n",
              "      background-color: #434B5C;\n",
              "      box-shadow: 0px 1px 3px 1px rgba(0, 0, 0, 0.15);\n",
              "      filter: drop-shadow(0px 1px 2px rgba(0, 0, 0, 0.3));\n",
              "      fill: #FFFFFF;\n",
              "    }\n",
              "  </style>\n",
              "\n",
              "      <script>\n",
              "        const buttonEl =\n",
              "          document.querySelector('#df-d5bedce2-d91d-4cb5-af5d-820748d34ecb button.colab-df-convert');\n",
              "        buttonEl.style.display =\n",
              "          google.colab.kernel.accessAllowed ? 'block' : 'none';\n",
              "\n",
              "        async function convertToInteractive(key) {\n",
              "          const element = document.querySelector('#df-d5bedce2-d91d-4cb5-af5d-820748d34ecb');\n",
              "          const dataTable =\n",
              "            await google.colab.kernel.invokeFunction('convertToInteractive',\n",
              "                                                     [key], {});\n",
              "          if (!dataTable) return;\n",
              "\n",
              "          const docLinkHtml = 'Like what you see? Visit the ' +\n",
              "            '<a target=\"_blank\" href=https://colab.research.google.com/notebooks/data_table.ipynb>data table notebook</a>'\n",
              "            + ' to learn more about interactive tables.';\n",
              "          element.innerHTML = '';\n",
              "          dataTable['output_type'] = 'display_data';\n",
              "          await google.colab.output.renderOutput(dataTable, element);\n",
              "          const docLink = document.createElement('div');\n",
              "          docLink.innerHTML = docLinkHtml;\n",
              "          element.appendChild(docLink);\n",
              "        }\n",
              "      </script>\n",
              "    </div>\n",
              "  </div>\n",
              "  "
            ]
          },
          "metadata": {},
          "execution_count": 5
        }
      ]
    },
    {
      "cell_type": "markdown",
      "source": [
        "b) Use the FacetGrid from seaborn to create line plots to represent house_price_index for each state. Please make the line color red, set ticks on x axis for years ['1980', '2000', '2020'], which you may have to convert date type again, put those years as labels, and set the titles for each small plot to their state names. In addition, set the y label to 'house price index' and remove the x label since it's obvious that these are years."
      ],
      "metadata": {
        "id": "LAhufVshGUws"
      }
    },
    {
      "cell_type": "code",
      "source": [
        "#your code goes here\n",
        "stateplot = sns.FacetGrid(houses, col=\"state\")\n",
        "stateplot.map(sns.lineplot, \"date\", \"house_price_index\", color='r')\n",
        "stateplot.set(xticks=[pd.datetime(1980, 1, 1), pd.datetime(2000, 1, 1), pd.datetime(2020, 1, 1)])\n",
        "stateplot.set_xticklabels(['1980', '2000', '2020'])\n",
        "stateplot.set_xlabels(\"\")\n",
        "stateplot.set_ylabels(\"house price index\")\n",
        "stateplot.set_titles(col_template=\"{col_name}\")"
      ],
      "metadata": {
        "colab": {
          "base_uri": "https://localhost:8080/",
          "height": 283
        },
        "id": "jUpGXLrZ25AU",
        "outputId": "eeba5204-01e6-4748-db6d-d3f2d50a4dc3"
      },
      "execution_count": 6,
      "outputs": [
        {
          "output_type": "stream",
          "name": "stderr",
          "text": [
            "/usr/local/lib/python3.7/dist-packages/ipykernel_launcher.py:4: FutureWarning: The pandas.datetime class is deprecated and will be removed from pandas in a future version. Import from datetime module instead.\n",
            "  after removing the cwd from sys.path.\n"
          ]
        },
        {
          "output_type": "execute_result",
          "data": {
            "text/plain": [
              "<seaborn.axisgrid.FacetGrid at 0x7f738a8bbf10>"
            ]
          },
          "metadata": {},
          "execution_count": 6
        },
        {
          "output_type": "display_data",
          "data": {
            "text/plain": [
              "<Figure size 864x216 with 4 Axes>"
            ],
            "image/png": "[encoded data removed]"
          },
          "metadata": {
            "needs_background": "light"
          }
        }
      ]
    },
    {
      "cell_type": "markdown",
      "source": [
        "c) Draw a lineplot for 'house price perc', but color them based on the 'state' name which will have four lines in a single plot. Set a legend which will be at the bottom of your graph and have them horizantally positioned next to eachother. Again, set the y label to house_price_perc and remove the x label since it's obvious. (Note that my y label is still showing index. Please ignore that.)"
      ],
      "metadata": {
        "id": "WLROR8C4HF5g"
      }
    },
    {
      "cell_type": "code",
      "source": [
        "houseline = sns.lineplot(data=houses, x=\"date\", y=\"house_price_perc\", hue=\"state\")\n",
        "houseline.legend(loc='lower center',  ncol=4)\n",
        "houseline.set_xlabel(\"\")\n"
      ],
      "metadata": {
        "colab": {
          "base_uri": "https://localhost:8080/",
          "height": 283
        },
        "id": "VxG0JxdF-jgL",
        "outputId": "70210ff8-2a0a-4a18-8f56-3ffcabffe8f7"
      },
      "execution_count": 19,
      "outputs": [
        {
          "output_type": "execute_result",
          "data": {
            "text/plain": [
              "Text(0.5, 0, '')"
            ]
          },
          "metadata": {},
          "execution_count": 19
        },
        {
          "output_type": "display_data",
          "data": {
            "text/plain": [
              "<Figure size 432x288 with 1 Axes>"
            ],
            "image/png": "[encoded data removed]"
          },
          "metadata": {
            "needs_background": "light"
          }
        }
      ]
    },
    {
      "cell_type": "markdown",
      "source": [
        "##Q4\n",
        "Please work on your 2nd question below. Please feel free to add new code cells."
      ],
      "metadata": {
        "id": "aZZu4Mf87Uz1"
      }
    },
    {
      "cell_type": "code",
      "source": [
        "#Your code goes here.\n",
        "world_cup = pd.read_csv('/content/drive/MyDrive/DATA/WorldCupMatches.csv')\n",
        "world_cup.head()"
      ],
      "metadata": {
        "id": "TId5WQEN7Vo8",
        "colab": {
          "base_uri": "https://localhost:8080/",
          "height": 496
        },
        "outputId": "6c43198b-2a46-45fd-a66d-f153384c15b4"
      },
      "execution_count": 20,
      "outputs": [
        {
          "output_type": "execute_result",
          "data": {
            "text/plain": [
              "   Year              Datetime    Stage         Stadium         City  \\\n",
              "0  1930  13 Jul 1930 - 15:00   Group 1         Pocitos  Montevideo    \n",
              "1  1930  13 Jul 1930 - 15:00   Group 4  Parque Central  Montevideo    \n",
              "2  1930  14 Jul 1930 - 12:45   Group 2  Parque Central  Montevideo    \n",
              "3  1930  14 Jul 1930 - 14:50   Group 3         Pocitos  Montevideo    \n",
              "4  1930  15 Jul 1930 - 16:00   Group 1  Parque Central  Montevideo    \n",
              "\n",
              "  Home Team Name  Home Team Goals  Away Team Goals Away Team Name  \\\n",
              "0         France                4                1         Mexico   \n",
              "1            USA                3                0        Belgium   \n",
              "2     Yugoslavia                2                1         Brazil   \n",
              "3        Romania                3                1           Peru   \n",
              "4      Argentina                1                0         France   \n",
              "\n",
              "  Win conditions  Attendance  Half-time Home Goals  Half-time Away Goals  \\\n",
              "0                     4444.0                     3                     0   \n",
              "1                    18346.0                     2                     0   \n",
              "2                    24059.0                     2                     0   \n",
              "3                     2549.0                     1                     0   \n",
              "4                    23409.0                     0                     0   \n",
              "\n",
              "                  Referee               Assistant 1  \\\n",
              "0  LOMBARDI Domingo (URU)     CRISTOPHE Henry (BEL)   \n",
              "1       MACIAS Jose (ARG)  MATEUCCI Francisco (URU)   \n",
              "2     TEJADA Anibal (URU)   VALLARINO Ricardo (URU)   \n",
              "3   WARNKEN Alberto (CHI)       LANGENUS Jean (BEL)   \n",
              "4     REGO Gilberto (BRA)      SAUCEDO Ulises (BOL)   \n",
              "\n",
              "                  Assistant 2  RoundID  MatchID Home Team Initials  \\\n",
              "0         REGO Gilberto (BRA)      201     1096                FRA   \n",
              "1       WARNKEN Alberto (CHI)      201     1090                USA   \n",
              "2         BALWAY Thomas (FRA)      201     1093                YUG   \n",
              "3    MATEUCCI Francisco (URU)      201     1098                ROU   \n",
              "4  RADULESCU Constantin (ROU)      201     1085                ARG   \n",
              "\n",
              "  Away Team Initials  \n",
              "0                MEX  \n",
              "1                BEL  \n",
              "2                BRA  \n",
              "3                PER  \n",
              "4                FRA  "
            ],
            "text/html": [
              "\n",
              "  <div id=\"df-34adb1d3-fde5-40f2-a53f-6852b230aa02\">\n",
              "    <div class=\"colab-df-container\">\n",
              "      <div>\n",
              "<style scoped>\n",
              "    .dataframe tbody tr th:only-of-type {\n",
              "        vertical-align: middle;\n",
              "    }\n",
              "\n",
              "    .dataframe tbody tr th {\n",
              "        vertical-align: top;\n",
              "    }\n",
              "\n",
              "    .dataframe thead th {\n",
              "        text-align: right;\n",
              "    }\n",
              "</style>\n",
              "<table border=\"1\" class=\"dataframe\">\n",
              "  <thead>\n",
              "    <tr style=\"text-align: right;\">\n",
              "      <th></th>\n",
              "      <th>Year</th>\n",
              "      <th>Datetime</th>\n",
              "      <th>Stage</th>\n",
              "      <th>Stadium</th>\n",
              "      <th>City</th>\n",
              "      <th>Home Team Name</th>\n",
              "      <th>Home Team Goals</th>\n",
              "      <th>Away Team Goals</th>\n",
              "      <th>Away Team Name</th>\n",
              "      <th>Win conditions</th>\n",
              "      <th>Attendance</th>\n",
              "      <th>Half-time Home Goals</th>\n",
              "      <th>Half-time Away Goals</th>\n",
              "      <th>Referee</th>\n",
              "      <th>Assistant 1</th>\n",
              "      <th>Assistant 2</th>\n",
              "      <th>RoundID</th>\n",
              "      <th>MatchID</th>\n",
              "      <th>Home Team Initials</th>\n",
              "      <th>Away Team Initials</th>\n",
              "    </tr>\n",
              "  </thead>\n",
              "  <tbody>\n",
              "    <tr>\n",
              "      <th>0</th>\n",
              "      <td>1930</td>\n",
              "      <td>13 Jul 1930 - 15:00</td>\n",
              "      <td>Group 1</td>\n",
              "      <td>Pocitos</td>\n",
              "      <td>Montevideo</td>\n",
              "      <td>France</td>\n",
              "      <td>4</td>\n",
              "      <td>1</td>\n",
              "      <td>Mexico</td>\n",
              "      <td></td>\n",
              "      <td>4444.0</td>\n",
              "      <td>3</td>\n",
              "      <td>0</td>\n",
              "      <td>LOMBARDI Domingo (URU)</td>\n",
              "      <td>CRISTOPHE Henry (BEL)</td>\n",
              "      <td>REGO Gilberto (BRA)</td>\n",
              "      <td>201</td>\n",
              "      <td>1096</td>\n",
              "      <td>FRA</td>\n",
              "      <td>MEX</td>\n",
              "    </tr>\n",
              "    <tr>\n",
              "      <th>1</th>\n",
              "      <td>1930</td>\n",
              "      <td>13 Jul 1930 - 15:00</td>\n",
              "      <td>Group 4</td>\n",
              "      <td>Parque Central</td>\n",
              "      <td>Montevideo</td>\n",
              "      <td>USA</td>\n",
              "      <td>3</td>\n",
              "      <td>0</td>\n",
              "      <td>Belgium</td>\n",
              "      <td></td>\n",
              "      <td>18346.0</td>\n",
              "      <td>2</td>\n",
              "      <td>0</td>\n",
              "      <td>MACIAS Jose (ARG)</td>\n",
              "      <td>MATEUCCI Francisco (URU)</td>\n",
              "      <td>WARNKEN Alberto (CHI)</td>\n",
              "      <td>201</td>\n",
              "      <td>1090</td>\n",
              "      <td>USA</td>\n",
              "      <td>BEL</td>\n",
              "    </tr>\n",
              "    <tr>\n",
              "      <th>2</th>\n",
              "      <td>1930</td>\n",
              "      <td>14 Jul 1930 - 12:45</td>\n",
              "      <td>Group 2</td>\n",
              "      <td>Parque Central</td>\n",
              "      <td>Montevideo</td>\n",
              "      <td>Yugoslavia</td>\n",
              "      <td>2</td>\n",
              "      <td>1</td>\n",
              "      <td>Brazil</td>\n",
              "      <td></td>\n",
              "      <td>24059.0</td>\n",
              "      <td>2</td>\n",
              "      <td>0</td>\n",
              "      <td>TEJADA Anibal (URU)</td>\n",
              "      <td>VALLARINO Ricardo (URU)</td>\n",
              "      <td>BALWAY Thomas (FRA)</td>\n",
              "      <td>201</td>\n",
              "      <td>1093</td>\n",
              "      <td>YUG</td>\n",
              "      <td>BRA</td>\n",
              "    </tr>\n",
              "    <tr>\n",
              "      <th>3</th>\n",
              "      <td>1930</td>\n",
              "      <td>14 Jul 1930 - 14:50</td>\n",
              "      <td>Group 3</td>\n",
              "      <td>Pocitos</td>\n",
              "      <td>Montevideo</td>\n",
              "      <td>Romania</td>\n",
              "      <td>3</td>\n",
              "      <td>1</td>\n",
              "      <td>Peru</td>\n",
              "      <td></td>\n",
              "      <td>2549.0</td>\n",
              "      <td>1</td>\n",
              "      <td>0</td>\n",
              "      <td>WARNKEN Alberto (CHI)</td>\n",
              "      <td>LANGENUS Jean (BEL)</td>\n",
              "      <td>MATEUCCI Francisco (URU)</td>\n",
              "      <td>201</td>\n",
              "      <td>1098</td>\n",
              "      <td>ROU</td>\n",
              "      <td>PER</td>\n",
              "    </tr>\n",
              "    <tr>\n",
              "      <th>4</th>\n",
              "      <td>1930</td>\n",
              "      <td>15 Jul 1930 - 16:00</td>\n",
              "      <td>Group 1</td>\n",
              "      <td>Parque Central</td>\n",
              "      <td>Montevideo</td>\n",
              "      <td>Argentina</td>\n",
              "      <td>1</td>\n",
              "      <td>0</td>\n",
              "      <td>France</td>\n",
              "      <td></td>\n",
              "      <td>23409.0</td>\n",
              "      <td>0</td>\n",
              "      <td>0</td>\n",
              "      <td>REGO Gilberto (BRA)</td>\n",
              "      <td>SAUCEDO Ulises (BOL)</td>\n",
              "      <td>RADULESCU Constantin (ROU)</td>\n",
              "      <td>201</td>\n",
              "      <td>1085</td>\n",
              "      <td>ARG</td>\n",
              "      <td>FRA</td>\n",
              "    </tr>\n",
              "  </tbody>\n",
              "</table>\n",
              "</div>\n",
              "      <button class=\"colab-df-convert\" onclick=\"convertToInteractive('df-34adb1d3-fde5-40f2-a53f-6852b230aa02')\"\n",
              "              title=\"Convert this dataframe to an interactive table.\"\n",
              "              style=\"display:none;\">\n",
              "        \n",
              "  <svg xmlns=\"http://www.w3.org/2000/svg\" height=\"24px\"viewBox=\"0 0 24 24\"\n",
              "       width=\"24px\">\n",
              "    <path d=\"M0 0h24v24H0V0z\" fill=\"none\"/>\n",
              "    <path d=\"M18.56 5.44l.94 2.06.94-2.06 2.06-.94-2.06-.94-.94-2.06-.94 2.06-2.06.94zm-11 1L8.5 8.5l.94-2.06 2.06-.94-2.06-.94L8.5 2.5l-.94 2.06-2.06.94zm10 10l.94 2.06.94-2.06 2.06-.94-2.06-.94-.94-2.06-.94 2.06-2.06.94z\"/><path d=\"M17.41 7.96l-1.37-1.37c-.4-.4-.92-.59-1.43-.59-.52 0-1.04.2-1.43.59L10.3 9.45l-7.72 7.72c-.78.78-.78 2.05 0 2.83L4 21.41c.39.39.9.59 1.41.59.51 0 1.02-.2 1.41-.59l7.78-7.78 2.81-2.81c.8-.78.8-2.07 0-2.86zM5.41 20L4 18.59l7.72-7.72 1.47 1.35L5.41 20z\"/>\n",
              "  </svg>\n",
              "      </button>\n",
              "      \n",
              "  <style>\n",
              "    .colab-df-container {\n",
              "      display:flex;\n",
              "      flex-wrap:wrap;\n",
              "      gap: 12px;\n",
              "    }\n",
              "\n",
              "    .colab-df-convert {\n",
              "      background-color: #E8F0FE;\n",
              "      border: none;\n",
              "      border-radius: 50%;\n",
              "      cursor: pointer;\n",
              "      display: none;\n",
              "      fill: #1967D2;\n",
              "      height: 32px;\n",
              "      padding: 0 0 0 0;\n",
              "      width: 32px;\n",
              "    }\n",
              "\n",
              "    .colab-df-convert:hover {\n",
              "      background-color: #E2EBFA;\n",
              "      box-shadow: 0px 1px 2px rgba(60, 64, 67, 0.3), 0px 1px 3px 1px rgba(60, 64, 67, 0.15);\n",
              "      fill: #174EA6;\n",
              "    }\n",
              "\n",
              "    [theme=dark] .colab-df-convert {\n",
              "      background-color: #3B4455;\n",
              "      fill: #D2E3FC;\n",
              "    }\n",
              "\n",
              "    [theme=dark] .colab-df-convert:hover {\n",
              "      background-color: #434B5C;\n",
              "      box-shadow: 0px 1px 3px 1px rgba(0, 0, 0, 0.15);\n",
              "      filter: drop-shadow(0px 1px 2px rgba(0, 0, 0, 0.3));\n",
              "      fill: #FFFFFF;\n",
              "    }\n",
              "  </style>\n",
              "\n",
              "      <script>\n",
              "        const buttonEl =\n",
              "          document.querySelector('#df-34adb1d3-fde5-40f2-a53f-6852b230aa02 button.colab-df-convert');\n",
              "        buttonEl.style.display =\n",
              "          google.colab.kernel.accessAllowed ? 'block' : 'none';\n",
              "\n",
              "        async function convertToInteractive(key) {\n",
              "          const element = document.querySelector('#df-34adb1d3-fde5-40f2-a53f-6852b230aa02');\n",
              "          const dataTable =\n",
              "            await google.colab.kernel.invokeFunction('convertToInteractive',\n",
              "                                                     [key], {});\n",
              "          if (!dataTable) return;\n",
              "\n",
              "          const docLinkHtml = 'Like what you see? Visit the ' +\n",
              "            '<a target=\"_blank\" href=https://colab.research.google.com/notebooks/data_table.ipynb>data table notebook</a>'\n",
              "            + ' to learn more about interactive tables.';\n",
              "          element.innerHTML = '';\n",
              "          dataTable['output_type'] = 'display_data';\n",
              "          await google.colab.output.renderOutput(dataTable, element);\n",
              "          const docLink = document.createElement('div');\n",
              "          docLink.innerHTML = docLinkHtml;\n",
              "          element.appendChild(docLink);\n",
              "        }\n",
              "      </script>\n",
              "    </div>\n",
              "  </div>\n",
              "  "
            ]
          },
          "metadata": {},
          "execution_count": 20
        }
      ]
    },
    {
      "cell_type": "code",
      "source": [
        "from pandas.core.frame import DataFrame\n",
        "#your code goes here. Just leaving an example output of an intermediate step for you to check the last two columns\n",
        "weight = world_cup.groupby(['Home Team Initials', 'Away Team Initials'])['Home Team Initials'].count()\n",
        "home_goal_total = world_cup.groupby(['Home Team Initials', 'Away Team Initials'])['Home Team Goals'].sum()\n",
        "home_goal_total.head()"
      ],
      "metadata": {
        "colab": {
          "base_uri": "https://localhost:8080/"
        },
        "id": "7fDf4U6LFNiw",
        "outputId": "3eba878f-1f8a-4bfa-ea74-861e4687de46"
      },
      "execution_count": 135,
      "outputs": [
        {
          "output_type": "execute_result",
          "data": {
            "text/plain": [
              "Home Team Initials  Away Team Initials\n",
              "ALG                 AUT                   0\n",
              "                    CHI                   3\n",
              "                    ESP                   0\n",
              "                    NIR                   1\n",
              "                    RUS                   1\n",
              "Name: Home Team Goals, dtype: int64"
            ]
          },
          "metadata": {},
          "execution_count": 135
        }
      ]
    },
    {
      "cell_type": "code",
      "source": [
        "weight.head()"
      ],
      "metadata": {
        "colab": {
          "base_uri": "https://localhost:8080/"
        },
        "id": "go5SRRryJidJ",
        "outputId": "5d9a3bf4-0e3a-472c-e476-eeb1788a635c"
      },
      "execution_count": 134,
      "outputs": [
        {
          "output_type": "execute_result",
          "data": {
            "text/plain": [
              "Home Team Initials  Away Team Initials\n",
              "ALG                 AUT                   1\n",
              "                    CHI                   1\n",
              "                    ESP                   1\n",
              "                    NIR                   1\n",
              "                    RUS                   1\n",
              "Name: Home Team Initials, dtype: int64"
            ]
          },
          "metadata": {},
          "execution_count": 134
        }
      ]
    },
    {
      "cell_type": "code",
      "source": [
        "#team_pairs = pd.merge(weight, home_goal_total)\n",
        "#team_pairs = home_goal_total.join(weight)\n",
        "team_pairs = pd.merge(home_goal_total, weight, left_index=True, right_index=True)\n",
        "team_pairs.columns = ['Home Goal Total', 'Weight']\n",
        "team_pairs.head()"
      ],
      "metadata": {
        "colab": {
          "base_uri": "https://localhost:8080/",
          "height": 238
        },
        "id": "E7yuWwnJ8Jld",
        "outputId": "8d7fc32b-0985-40ca-b43e-bba493c59bdf"
      },
      "execution_count": 150,
      "outputs": [
        {
          "output_type": "execute_result",
          "data": {
            "text/plain": [
              "                                       Home Goal Total  Weight\n",
              "Home Team Initials Away Team Initials                         \n",
              "ALG                AUT                               0       1\n",
              "                   CHI                               3       1\n",
              "                   ESP                               0       1\n",
              "                   NIR                               1       1\n",
              "                   RUS                               1       1"
            ],
            "text/html": [
              "\n",
              "  <div id=\"df-f0ff377f-988d-403b-8ca9-83883efbd07c\">\n",
              "    <div class=\"colab-df-container\">\n",
              "      <div>\n",
              "<style scoped>\n",
              "    .dataframe tbody tr th:only-of-type {\n",
              "        vertical-align: middle;\n",
              "    }\n",
              "\n",
              "    .dataframe tbody tr th {\n",
              "        vertical-align: top;\n",
              "    }\n",
              "\n",
              "    .dataframe thead th {\n",
              "        text-align: right;\n",
              "    }\n",
              "</style>\n",
              "<table border=\"1\" class=\"dataframe\">\n",
              "  <thead>\n",
              "    <tr style=\"text-align: right;\">\n",
              "      <th></th>\n",
              "      <th></th>\n",
              "      <th>Home Goal Total</th>\n",
              "      <th>Weight</th>\n",
              "    </tr>\n",
              "    <tr>\n",
              "      <th>Home Team Initials</th>\n",
              "      <th>Away Team Initials</th>\n",
              "      <th></th>\n",
              "      <th></th>\n",
              "    </tr>\n",
              "  </thead>\n",
              "  <tbody>\n",
              "    <tr>\n",
              "      <th rowspan=\"5\" valign=\"top\">ALG</th>\n",
              "      <th>AUT</th>\n",
              "      <td>0</td>\n",
              "      <td>1</td>\n",
              "    </tr>\n",
              "    <tr>\n",
              "      <th>CHI</th>\n",
              "      <td>3</td>\n",
              "      <td>1</td>\n",
              "    </tr>\n",
              "    <tr>\n",
              "      <th>ESP</th>\n",
              "      <td>0</td>\n",
              "      <td>1</td>\n",
              "    </tr>\n",
              "    <tr>\n",
              "      <th>NIR</th>\n",
              "      <td>1</td>\n",
              "      <td>1</td>\n",
              "    </tr>\n",
              "    <tr>\n",
              "      <th>RUS</th>\n",
              "      <td>1</td>\n",
              "      <td>1</td>\n",
              "    </tr>\n",
              "  </tbody>\n",
              "</table>\n",
              "</div>\n",
              "      <button class=\"colab-df-convert\" onclick=\"convertToInteractive('df-f0ff377f-988d-403b-8ca9-83883efbd07c')\"\n",
              "              title=\"Convert this dataframe to an interactive table.\"\n",
              "              style=\"display:none;\">\n",
              "        \n",
              "  <svg xmlns=\"http://www.w3.org/2000/svg\" height=\"24px\"viewBox=\"0 0 24 24\"\n",
              "       width=\"24px\">\n",
              "    <path d=\"M0 0h24v24H0V0z\" fill=\"none\"/>\n",
              "    <path d=\"M18.56 5.44l.94 2.06.94-2.06 2.06-.94-2.06-.94-.94-2.06-.94 2.06-2.06.94zm-11 1L8.5 8.5l.94-2.06 2.06-.94-2.06-.94L8.5 2.5l-.94 2.06-2.06.94zm10 10l.94 2.06.94-2.06 2.06-.94-2.06-.94-.94-2.06-.94 2.06-2.06.94z\"/><path d=\"M17.41 7.96l-1.37-1.37c-.4-.4-.92-.59-1.43-.59-.52 0-1.04.2-1.43.59L10.3 9.45l-7.72 7.72c-.78.78-.78 2.05 0 2.83L4 21.41c.39.39.9.59 1.41.59.51 0 1.02-.2 1.41-.59l7.78-7.78 2.81-2.81c.8-.78.8-2.07 0-2.86zM5.41 20L4 18.59l7.72-7.72 1.47 1.35L5.41 20z\"/>\n",
              "  </svg>\n",
              "      </button>\n",
              "      \n",
              "  <style>\n",
              "    .colab-df-container {\n",
              "      display:flex;\n",
              "      flex-wrap:wrap;\n",
              "      gap: 12px;\n",
              "    }\n",
              "\n",
              "    .colab-df-convert {\n",
              "      background-color: #E8F0FE;\n",
              "      border: none;\n",
              "      border-radius: 50%;\n",
              "      cursor: pointer;\n",
              "      display: none;\n",
              "      fill: #1967D2;\n",
              "      height: 32px;\n",
              "      padding: 0 0 0 0;\n",
              "      width: 32px;\n",
              "    }\n",
              "\n",
              "    .colab-df-convert:hover {\n",
              "      background-color: #E2EBFA;\n",
              "      box-shadow: 0px 1px 2px rgba(60, 64, 67, 0.3), 0px 1px 3px 1px rgba(60, 64, 67, 0.15);\n",
              "      fill: #174EA6;\n",
              "    }\n",
              "\n",
              "    [theme=dark] .colab-df-convert {\n",
              "      background-color: #3B4455;\n",
              "      fill: #D2E3FC;\n",
              "    }\n",
              "\n",
              "    [theme=dark] .colab-df-convert:hover {\n",
              "      background-color: #434B5C;\n",
              "      box-shadow: 0px 1px 3px 1px rgba(0, 0, 0, 0.15);\n",
              "      filter: drop-shadow(0px 1px 2px rgba(0, 0, 0, 0.3));\n",
              "      fill: #FFFFFF;\n",
              "    }\n",
              "  </style>\n",
              "\n",
              "      <script>\n",
              "        const buttonEl =\n",
              "          document.querySelector('#df-f0ff377f-988d-403b-8ca9-83883efbd07c button.colab-df-convert');\n",
              "        buttonEl.style.display =\n",
              "          google.colab.kernel.accessAllowed ? 'block' : 'none';\n",
              "\n",
              "        async function convertToInteractive(key) {\n",
              "          const element = document.querySelector('#df-f0ff377f-988d-403b-8ca9-83883efbd07c');\n",
              "          const dataTable =\n",
              "            await google.colab.kernel.invokeFunction('convertToInteractive',\n",
              "                                                     [key], {});\n",
              "          if (!dataTable) return;\n",
              "\n",
              "          const docLinkHtml = 'Like what you see? Visit the ' +\n",
              "            '<a target=\"_blank\" href=https://colab.research.google.com/notebooks/data_table.ipynb>data table notebook</a>'\n",
              "            + ' to learn more about interactive tables.';\n",
              "          element.innerHTML = '';\n",
              "          dataTable['output_type'] = 'display_data';\n",
              "          await google.colab.output.renderOutput(dataTable, element);\n",
              "          const docLink = document.createElement('div');\n",
              "          docLink.innerHTML = docLinkHtml;\n",
              "          element.appendChild(docLink);\n",
              "        }\n",
              "      </script>\n",
              "    </div>\n",
              "  </div>\n",
              "  "
            ]
          },
          "metadata": {},
          "execution_count": 150
        }
      ]
    },
    {
      "cell_type": "markdown",
      "source": [
        "Make sure that you only write four columns ('Home Team Initials', 'Away Team Initials', 'weight', 'HomeGoalTotal') from the data frame, team_pairs, to a csv file"
      ],
      "metadata": {
        "id": "6VabW9yl8gUK"
      }
    },
    {
      "cell_type": "code",
      "source": [
        "team_pairs.to_csv()"
      ],
      "metadata": {
        "id": "4S5MvkcR8aut",
        "colab": {
          "base_uri": "https://localhost:8080/",
          "height": 851
        },
        "outputId": "11c55551-7097-4f4d-b0dc-7c535fa617c5"
      },
      "execution_count": 151,
      "outputs": [
        {
          "output_type": "execute_result",
          "data": {
            "text/plain": [
              "'Home Team Initials,Away Team Initials,Home Goal Total,Weight\\nALG,AUT,0,1\\nALG,CHI,3,1\\nALG,ESP,0,1\\nALG,NIR,1,1\\nALG,RUS,1,1\\nALG,SVN,0,1\\nANG,POR,0,1\\nARG,BEL,4,4\\nARG,BIH,2,1\\nARG,BRA,2,3\\nARG,BUL,3,3\\nARG,CHI,3,1\\nARG,CIV,2,1\\nARG,CMR,0,1\\nARG,CRO,1,1\\nARG,ENG,4,3\\nARG,ESP,2,1\\nARG,FRA,3,2\\nARG,FRG,4,2\\nARG,GDR,1,1\\nARG,GER,0,1\\nARG,GRE,4,1\\nARG,HAI,4,1\\nARG,HUN,6,2\\nARG,IRN,1,1\\nARG,ITA,1,1\\nARG,JAM,5,1\\nARG,JPN,1,1\\nARG,KOR,7,2\\nARG,MEX,11,3\\nARG,NED,3,1\\nARG,NGA,4,3\\nARG,NIR,3,1\\nARG,PER,6,1\\nARG,POL,2,1\\nARG,ROU,1,1\\nARG,SCG,6,1\\nARG,SLV,2,1\\nARG,SUI,4,3\\nARG,URS,2,1\\nARG,URU,1,1\\nARG,USA,6,1\\nAUS,CHI,0,1\\nAUS,ESP,0,1\\nAUS,FRG,0,1\\nAUS,JPN,3,1\\nAUS,NED,2,1\\nAUS,SRB,2,1\\nAUT,ESP,2,1\\nAUT,FRA,3,2\\nAUT,FRG,3,1\\nAUT,HUN,2,1\\nAUT,NIR,2,1\\nAUT,SCO,1,1\\nAUT,SUI,7,1\\nAUT,SWE,1,1\\nAUT,TCH,5,2\\nAUT,URU,3,1\\nAUT,USA,2,1\\nBEL,ALG,2,1\\nBEL,ESP,1,1\\nBEL,HUN,1,1\\nBEL,KOR,3,2\\nBEL,KSA,0,1\\nBEL,MAR,1,1\\nBEL,MEX,3,2\\nBEL,NED,1,1\\nBEL,RUS,4,2\\nBEL,SLV,4,2\\nBEL,URS,0,1\\nBEL,URU,3,1\\nBEL,USA,4,2\\nBIH,IRN,3,1\\nBOL,ESP,1,1\\nBRA,ALG,1,1\\nBRA,ARG,0,1\\nBRA,AUS,2,1\\nBRA,AUT,4,2\\nBRA,BEL,2,1\\nBRA,BOL,4,1\\nBRA,BUL,2,1\\nBRA,CHI,13,5\\nBRA,CHN,4,1\\nBRA,CIV,3,1\\nBRA,CMR,3,1\\nBRA,COL,4,2\\nBRA,CRC,1,1\\nBRA,CRO,4,2\\nBRA,DEN,3,1\\nBRA,ENG,4,3\\nBRA,ESP,8,3\\nBRA,FRA,6,4\\nBRA,GDR,1,1\\nBRA,GER,2,2\\nBRA,GHA,3,1\\nBRA,ITA,6,3\\nBRA,MAR,3,1\\nBRA,MEX,11,4\\nBRA,NED,1,3\\nBRA,NOR,1,1\\nBRA,NZL,4,1\\nBRA,PER,7,2\\nBRA,POL,13,4\\nBRA,PRK,2,1\\nBRA,ROU,3,1\\nBRA,RUS,2,1\\nBRA,SCO,7,3\\nBRA,SUI,2,1\\nBRA,SWE,19,5\\nBRA,TCH,10,5\\nBRA,TUR,3,2\\nBRA,URS,4,2\\nBRA,URU,3,1\\nBRA,USA,1,1\\nBRA,WAL,1,1\\nBRA,YUG,3,3\\nBUL,GER,2,1\\nBUL,GRE,4,1\\nBUL,ITA,2,2\\nBUL,MAR,1,1\\nBUL,NED,1,1\\nBUL,URU,1,1\\nCAN,FRA,0,1\\nCHI,AUS,3,1\\nCHI,AUT,1,2\\nCHI,CMR,1,1\\nCHI,ESP,1,1\\nCHI,FRA,1,1\\nCHI,GDR,1,1\\nCHI,ITA,2,1\\nCHI,MEX,3,1\\nCHI,SUI,4,2\\nCHI,URS,2,1\\nCHI,USA,5,1\\nCHI,YUG,1,1\\nCHN,CRC,0,1\\nCIV,JPN,2,1\\nCIV,POR,0,1\\nCIV,SCG,3,1\\nCMR,AUT,1,1\\nCMR,BRA,1,1\\nCMR,COL,2,1\\nCMR,CRO,0,1\\nCMR,DEN,1,1\\nCMR,GER,0,1\\nCMR,KSA,1,1\\nCMR,NED,1,1\\nCMR,ROU,2,1\\nCMR,SWE,2,1\\nCMR,URS,0,1\\nCOL,CIV,2,1\\nCOL,ENG,0,1\\nCOL,GRE,3,1\\nCOL,ROU,1,1\\nCOL,TUN,1,1\\nCOL,URU,4,2\\nCRC,BRA,2,1\\nCRC,ENG,0,1\\nCRC,GRE,2,2\\nCRC,POL,1,1\\nCRC,SCO,1,1\\nCRC,TUR,1,1\\nCRO,AUS,2,1\\nCRO,MEX,1,2\\nCUB,ROU,5,2\\nCZE,GHA,0,1\\nCZE,ITA,0,1\\nDEN,ENG,0,1\\nDEN,ESP,1,1\\nDEN,FRA,2,1\\nDEN,FRG,2,1\\nDEN,JPN,1,1\\nDEN,SEN,1,1\\nDEN,URU,6,1\\nECU,CRC,3,1\\nECU,CRO,1,1\\nECU,FRA,0,1\\nECU,GER,0,1\\nENG,ALG,0,1\\nENG,ARG,4,2\\nENG,AUT,2,1\\nENG,BEL,5,2\\nENG,BRA,1,1\\nENG,BUL,0,1\\nENG,CHI,2,1\\nENG,CMR,3,1\\nENG,ECU,1,1\\nENG,EGY,1,1\\nENG,FRA,5,2\\nENG,FRG,4,1\\nENG,IRL,1,1\\nENG,ITA,1,1\\nENG,KUW,1,1\\nENG,MAR,0,1\\nENG,MEX,2,1\\nENG,NED,0,1\\nENG,PAR,4,2\\nENG,POL,3,1\\nENG,POR,2,2\\nENG,ROU,1,1\\nENG,SUI,2,1\\nENG,SWE,1,1\\nENG,TCH,3,2\\nENG,TRI,2,1\\nENG,TUN,2,1\\nENG,URU,0,1\\nENG,USA,1,1\\nESP,BEL,1,1\\nESP,BRA,3,2\\nESP,BUL,6,1\\nESP,CHI,2,2\\nESP,ENG,1,2\\nESP,FRA,1,1\\nESP,HON,3,2\\nESP,IRL,1,1\\nESP,KOR,2,2\\nESP,MEX,1,1\\nESP,NED,1,1\\nESP,NGA,2,1\\nESP,PAR,3,2\\nESP,POR,1,1\\nESP,SUI,5,3\\nESP,SVN,3,1\\nESP,SWE,1,1\\nESP,TUN,3,1\\nESP,UKR,4,1\\nESP,USA,3,1\\nESP,YUG,3,2\\nFRA,BEL,7,2\\nFRA,CRO,2,1\\nFRA,DEN,2,1\\nFRA,FRG,6,2\\nFRA,GER,0,2\\nFRA,HON,3,1\\nFRA,HUN,3,1\\nFRA,KOR,1,1\\nFRA,KSA,4,1\\nFRA,KUW,4,1\\nFRA,MEX,8,4\\nFRA,NGA,4,2\\nFRA,NIR,8,2\\nFRA,PAR,8,2\\nFRA,RSA,4,2\\nFRA,SCO,2,1\\nFRA,SEN,0,1\\nFRA,SUI,0,1\\nFRA,TCH,1,1\\nFRA,URS,1,1\\nFRA,URU,0,1\\nFRG,ALG,1,1\\nFRG,ARG,1,2\\nFRG,AUT,7,2\\nFRG,BUL,5,1\\nFRG,CHI,7,3\\nFRG,COL,1,1\\nFRG,ENG,4,3\\nFRG,ESP,4,2\\nFRG,FRA,3,1\\nFRG,HUN,3,1\\nFRG,ITA,0,2\\nFRG,MAR,2,1\\nFRG,MEX,6,2\\nFRG,NED,4,2\\nFRG,NIR,2,1\\nFRG,PER,3,1\\nFRG,POL,0,1\\nFRG,SCO,2,1\\nFRG,SUI,7,2\\nFRG,SWE,4,1\\nFRG,TCH,3,2\\nFRG,TUN,0,1\\nFRG,TUR,11,2\\nFRG,UAE,5,1\\nFRG,URS,2,1\\nFRG,URU,5,2\\nFRG,YUG,7,3\\nGDR,AUS,2,1\\nGDR,FRG,1,1\\nGDR,NED,0,1\\nGER,ALG,4,2\\nGER,ARG,3,3\\nGER,AUS,4,1\\nGER,AUT,3,1\\nGER,BEL,8,2\\nGER,BOL,1,1\\nGER,BRA,0,1\\nGER,CRC,4,1\\nGER,CRO,0,1\\nGER,ENG,4,1\\nGER,ESP,1,2\\nGER,GHA,2,1\\nGER,IRL,1,1\\nGER,IRN,2,1\\nGER,ITA,0,1\\nGER,KOR,4,2\\nGER,KSA,8,1\\nGER,MEX,2,1\\nGER,PAR,1,1\\nGER,POL,1,1\\nGER,POR,7,2\\nGER,SRB,0,1\\nGER,SWE,4,2\\nGER,USA,3,2\\nGER,YUG,2,1\\nGHA,AUS,1,1\\nGHA,GER,0,1\\nGHA,USA,3,2\\nGRE,ARG,0,1\\nGRE,CIV,2,1\\nGRE,NGA,2,2\\nHAI,POL,0,1\\nHON,CHI,0,1\\nHON,ECU,1,1\\nHON,NIR,1,1\\nHON,SUI,0,1\\nHON,YUG,0,1\\nHUN,ARG,0,1\\nHUN,BRA,7,2\\nHUN,BUL,9,2\\nHUN,CAN,2,1\\nHUN,EGY,4,1\\nHUN,ENG,2,1\\nHUN,FRA,0,1\\nHUN,FRG,8,1\\nHUN,INH,6,1\\nHUN,KOR,9,1\\nHUN,MEX,4,1\\nHUN,SLV,10,1\\nHUN,SUI,2,1\\nHUN,SWE,5,1\\nHUN,URU,4,1\\nHUN,WAL,1,1\\nIRL,CMR,1,1\\nIRL,EGY,0,1\\nIRL,NED,1,1\\nIRL,NOR,0,1\\nIRL,ROU,0,1\\nIRN,ANG,1,1\\nIRN,NGA,0,1\\nIRQ,BEL,1,1\\nIRQ,MEX,0,1\\nITA,ARG,5,4\\nITA,AUS,1,1\\nITA,AUT,5,4\\nITA,BEL,4,1\\nITA,BRA,5,2\\nITA,CHI,4,2\\nITA,CMR,4,2\\nITA,CRC,0,1\\nITA,CRO,1,1\\nITA,ECU,2,1\\nITA,ENG,2,1\\nITA,ESP,4,3\\nITA,FRA,6,5\\nITA,FRG,7,2\\nITA,GHA,2,1\\nITA,HAI,3,1\\nITA,HUN,7,2\\nITA,IRL,1,2\\nITA,ISR,0,1\\nITA,MEX,5,2\\nITA,NOR,4,3\\nITA,NZL,1,1\\nITA,PAR,3,2\\nITA,PER,1,1\\nITA,POL,0,1\\nITA,SUI,3,1\\nITA,SWE,1,1\\nITA,TCH,4,2\\nITA,UKR,3,1\\nITA,URU,2,2\\nITA,USA,9,3\\nJAM,CRO,1,1\\nJPN,BEL,2,1\\nJPN,BRA,1,1\\nJPN,CMR,1,1\\nJPN,COL,1,1\\nJPN,CRO,0,2\\nJPN,GRE,0,1\\nJPN,JAM,1,1\\nJPN,RUS,1,1\\nJPN,TUR,0,1\\nKOR,ALG,2,1\\nKOR,BEL,0,1\\nKOR,BOL,0,1\\nKOR,BUL,1,1\\nKOR,ESP,1,1\\nKOR,GRE,2,1\\nKOR,ITA,4,2\\nKOR,MEX,1,1\\nKOR,POL,2,1\\nKOR,TOG,2,1\\nKOR,TUR,2,1\\nKOR,URU,0,1\\nKOR,USA,1,1\\nKSA,DEN,0,1\\nKSA,ESP,0,1\\nKSA,IRL,0,1\\nKSA,MAR,2,1\\nKSA,SWE,1,1\\nKSA,UKR,0,1\\nMAR,FRG,0,1\\nMAR,NED,1,1\\nMAR,NOR,2,1\\nMAR,POL,0,1\\nMEX,ANG,0,1\\nMEX,BEL,1,1\\nMEX,BUL,3,2\\nMEX,CMR,1,1\\nMEX,ECU,2,1\\nMEX,IRL,2,1\\nMEX,IRN,3,1\\nMEX,ITA,1,1\\nMEX,PAR,1,1\\nMEX,SLV,4,1\\nMEX,TCH,3,1\\nMEX,URS,0,1\\nMEX,URU,0,1\\nMEX,USA,0,1\\nMEX,WAL,1,1\\nNED,ARG,6,5\\nNED,AUT,5,1\\nNED,BEL,0,1\\nNED,BRA,6,3\\nNED,CHI,2,1\\nNED,CIV,2,1\\nNED,CRC,0,2\\nNED,CRO,1,1\\nNED,DEN,2,1\\nNED,EGY,1,1\\nNED,ESP,0,1\\nNED,FRG,1,1\\nNED,IRL,2,1\\nNED,IRN,3,1\\nNED,ITA,2,1\\nNED,JPN,1,1\\nNED,KOR,5,1\\nNED,KSA,2,1\\nNED,MEX,6,3\\nNED,PER,0,1\\nNED,SVK,2,1\\nNED,SWE,0,1\\nNED,YUG,2,1\\nNGA,ARG,2,1\\nNGA,BIH,1,1\\nNGA,BUL,4,2\\nNGA,DEN,1,1\\nNGA,ENG,0,1\\nNGA,ITA,1,1\\nNGA,KOR,2,1\\nNGA,PAR,1,1\\nNIR,BRA,0,1\\nNIR,ESP,2,2\\nNIR,TCH,3,2\\nNOR,MEX,1,1\\nNZL,SVK,1,1\\nPAR,BEL,3,2\\nPAR,BUL,0,1\\nPAR,ESP,0,1\\nPAR,IRQ,1,1\\nPAR,JPN,0,1\\nPAR,NZL,0,1\\nPAR,RSA,2,1\\nPAR,SCO,3,1\\nPAR,TRI,2,1\\nPAR,YUG,3,1\\nPER,BUL,3,1\\nPER,CMR,0,1\\nPER,IRN,4,1\\nPER,MAR,3,1\\nPER,SCO,3,1\\nPOL,ARG,3,1\\nPOL,BEL,3,1\\nPOL,CMR,0,1\\nPOL,ECU,0,1\\nPOL,FRA,3,1\\nPOL,FRG,0,1\\nPOL,ITA,2,2\\nPOL,MEX,3,1\\nPOL,PER,6,2\\nPOL,POR,1,1\\nPOL,TUN,1,1\\nPOL,URS,0,1\\nPOL,USA,3,1\\nPOL,YUG,2,1\\nPOR,BRA,3,2\\nPOR,BUL,3,1\\nPOR,ENG,1,1\\nPOR,FRA,0,1\\nPOR,GHA,2,1\\nPOR,HUN,3,1\\nPOR,IRN,2,1\\nPOR,KOR,0,1\\nPOR,MAR,1,1\\nPOR,MEX,2,1\\nPOR,NED,1,1\\nPOR,POL,4,1\\nPOR,PRK,12,2\\nPOR,URS,2,1\\nPRK,CHI,1,1\\nPRK,CIV,0,1\\nPRK,ITA,1,1\\nROU,ARG,3,1\\nROU,COL,1,1\\nROU,CRO,0,1\\nROU,ENG,2,1\\nROU,PER,3,1\\nROU,SUI,1,1\\nROU,SWE,2,1\\nROU,TCH,2,1\\nROU,TUN,1,1\\nRSA,DEN,1,1\\nRSA,ESP,2,1\\nRSA,KSA,2,1\\nRSA,MEX,1,1\\nRSA,SVN,1,1\\nRSA,URU,0,1\\nRUS,CMR,6,1\\nRUS,KOR,1,1\\nRUS,TUN,2,1\\nSCG,NED,0,1\\nSCO,BRA,0,1\\nSCO,DEN,0,1\\nSCO,IRN,1,1\\nSCO,MAR,0,1\\nSCO,NED,3,1\\nSCO,NOR,1,1\\nSCO,NZL,5,1\\nSCO,URU,0,1\\nSCO,YUG,1,1\\nSEN,TUR,0,1\\nSEN,URU,3,1\\nSRB,GHA,0,1\\nSUI,COL,0,1\\nSUI,ECU,2,1\\nSUI,FRA,2,1\\nSUI,GER,5,2\\nSUI,HON,0,1\\nSUI,ITA,6,2\\nSUI,KOR,2,1\\nSUI,MEX,2,1\\nSUI,NED,3,1\\nSUI,UKR,0,1\\nSVK,ITA,3,1\\nSVK,PAR,0,1\\nSVN,ENG,0,1\\nSVN,PAR,1,1\\nSVN,USA,2,1\\nSWE,ARG,4,2\\nSWE,BRA,1,2\\nSWE,BUL,4,2\\nSWE,CRC,1,1\\nSWE,CUB,8,1\\nSWE,ENG,2,1\\nSWE,ESP,3,1\\nSWE,FRG,3,1\\nSWE,HUN,2,1\\nSWE,ISR,1,1\\nSWE,ITA,3,1\\nSWE,MEX,3,1\\nSWE,NGA,2,1\\nSWE,PAR,3,2\\nSWE,POL,0,1\\nSWE,RUS,3,1\\nSWE,SCO,1,1\\nSWE,SEN,1,1\\nSWE,URS,2,1\\nSWE,URU,4,2\\nSWE,WAL,0,1\\nSWE,YUG,2,1\\nTCH,ARG,6,1\\nTCH,CRC,4,1\\nTCH,ESP,1,1\\nTCH,GER,3,1\\nTCH,HUN,1,1\\nTCH,KUW,1,1\\nTCH,NED,3,1\\nTCH,ROU,2,1\\nTCH,SUI,3,1\\nTCH,YUG,3,1\\nTOG,FRA,0,1\\nTOG,SUI,0,1\\nTRI,SWE,0,1\\nTUN,BEL,1,1\\nTUN,JPN,0,1\\nTUN,KSA,2,1\\nTUN,MEX,3,1\\nTUR,CHN,3,1\\nTUR,KOR,7,1\\nUAE,COL,0,1\\nUKR,TUN,1,1\\nURS,AUT,2,1\\nURS,BEL,7,2\\nURS,CAN,2,1\\nURS,CHI,2,1\\nURS,COL,4,1\\nURS,ENG,3,2\\nURS,HUN,8,2\\nURS,ITA,1,1\\nURS,NZL,3,1\\nURS,PRK,3,1\\nURS,ROU,0,1\\nURS,SCO,2,1\\nURS,SLV,2,1\\nURS,URU,2,1\\nURS,YUG,2,1\\nURU,ARG,4,1\\nURU,BOL,8,1\\nURU,BRA,2,1\\nURU,COL,2,1\\nURU,CRC,1,1\\nURU,DEN,1,1\\nURU,ENG,6,2\\nURU,ESP,2,2\\nURU,FRA,2,2\\nURU,FRG,1,1\\nURU,GER,2,1\\nURU,GHA,1,1\\nURU,ISR,2,1\\nURU,ITA,0,1\\nURU,KOR,2,1\\nURU,MEX,0,1\\nURU,NED,2,2\\nURU,PER,1,1\\nURU,ROU,4,1\\nURU,SCO,7,1\\nURU,SWE,3,1\\nURU,TCH,2,1\\nURU,URS,1,1\\nURU,YUG,6,1\\nUSA,ALG,1,1\\nUSA,BEL,3,1\\nUSA,COL,2,1\\nUSA,CZE,0,1\\nUSA,ENG,1,1\\nUSA,GER,0,1\\nUSA,GHA,1,1\\nUSA,IRN,1,1\\nUSA,PAR,3,1\\nUSA,POR,5,2\\nUSA,ROU,0,1\\nUSA,SUI,1,1\\nUSA,TCH,1,1\\nUSA,YUG,0,1\\nWAL,HUN,2,1\\nYUG,ARG,0,1\\nYUG,BOL,4,1\\nYUG,BRA,2,1\\nYUG,COL,6,2\\nYUG,FRA,4,2\\nYUG,FRG,1,2\\nYUG,IRN,1,1\\nYUG,MEX,4,1\\nYUG,NIR,0,1\\nYUG,SCO,1,1\\nYUG,SUI,3,1\\nYUG,UAE,4,1\\nYUG,URU,3,1\\nYUG,ZAI,9,1\\nZAI,BRA,0,1\\nZAI,SCO,0,1\\n'"
            ],
            "application/vnd.google.colaboratory.intrinsic+json": {
              "type": "string"
            }
          },
          "metadata": {},
          "execution_count": 151
        }
      ]
    }
  ]
}